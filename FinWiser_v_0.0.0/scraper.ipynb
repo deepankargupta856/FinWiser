{
 "cells": [
  {
   "cell_type": "code",
   "execution_count": 98,
   "id": "db5ea235-4773-453e-ac17-e9a326dc23e3",
   "metadata": {},
   "outputs": [],
   "source": [
    "#importing \n",
    "from selenium import webdriver\n",
    "from selenium.webdriver.support.ui import WebDriverWait\n",
    "from selenium.webdriver.common.by import By\n",
    "from selenium.webdriver.common.action_chains import ActionChains\n",
    "from selenium.webdriver.support import expected_conditions as EC\n",
    "import time\n",
    "import pandas as pd"
   ]
  },
  {
   "cell_type": "code",
   "execution_count": 99,
   "id": "6d2bd2eb-3b30-49ed-b53b-6ecf8b34ca25",
   "metadata": {},
   "outputs": [],
   "source": [
    "# a function to apply wait ensuring that our page is loaded completely\n",
    "def page_load_wait(wait,driver):\n",
    "    title = driver.title\n",
    "    try:\n",
    "        wait.until(\n",
    "            lambda x : x.execute_script('return document.readyState;') == 'complete' \n",
    "        )\n",
    "    except:\n",
    "        print(f\"page {title} not loaded fully\")\n",
    "    else:\n",
    "        print(f\"page {title} loaded successfully\")\n",
    "    "
   ]
  },
  {
   "cell_type": "code",
   "execution_count": 100,
   "id": "b34c8c1f-30a0-4bc7-994b-c799cf2db697",
   "metadata": {},
   "outputs": [
    {
     "name": "stdout",
     "output_type": "stream",
     "text": [
      "page Yahoo Finance - Stock Market Live, Quotes, Business & Finance News loaded successfully\n",
      "page Top Trending Stocks: US stocks with the highest interest today - Yahoo Finance loaded successfully\n",
      "all stock data fetched no more pages to view\n"
     ]
    }
   ],
   "source": [
    "#instantiating driver object\n",
    "driver = webdriver.Chrome()\n",
    "driver.maximize_window()\n",
    "\n",
    "#implementing explicit wait with timeout value as 5 s\n",
    "wait = WebDriverWait(driver,5)\n",
    "\n",
    "#loading our page\n",
    "url = \"https://finance.yahoo.com/\"\n",
    "driver.get(url)\n",
    "\n",
    "#wait for page to get laoded\n",
    "page_load_wait(wait,driver)\n",
    "\n",
    "#hovering onto markets menu\n",
    "actions = ActionChains(driver)\n",
    "markets = wait.until(\n",
    "    EC.presence_of_element_located((By.XPATH,'//*[@id=\"ybar-navigation\"]/div/ul/li[3]/a'))\n",
    ")\n",
    "actions.move_to_element(markets).perform()\n",
    "\n",
    "#clicking on trending tickers\n",
    "tickers = wait.until(\n",
    "    EC.element_to_be_clickable((By.XPATH,'//*[@id=\"ybar-navigation\"]/div/ul/li[3]/div/ul/li[4]/a'))\n",
    ")\n",
    "tickers.click()\n",
    "\n",
    "#clicking on most active stocks\n",
    "active = wait.until(\n",
    "    EC.element_to_be_clickable((By.XPATH,'//*[@id=\"nimbus-app\"]/section/section/section/article/section[1]/div/nav/ul/li[1]/a'))\n",
    ")\n",
    "active.click()\n",
    "page_load_wait(wait,driver)\n",
    "\n",
    "data = []\n",
    "#navigating through the stock pages to scrape data\n",
    "while True:\n",
    "    #extracting\n",
    "    wait.until(\n",
    "        EC.presence_of_element_located((By.XPATH,'//*[@id=\"nimbus-app\"]/section/section/section/article/section[1]/div/div[2]/div/table'))\n",
    "    )\n",
    "    curr_rows = driver.find_elements(By.CSS_SELECTOR,\"table tbody tr\")\n",
    "    for row in curr_rows:\n",
    "        try:\n",
    "            parameters = row.find_elements(By.TAG_NAME,'td')\n",
    "            stock = {\n",
    "                'symbol' : parameters[0].text,\n",
    "                'name' : parameters[1].text,\n",
    "                'current_market_price' : parameters[3].text,\n",
    "                'change' : parameters[4].text,\n",
    "                'percent_change' : parameters[5].text,\n",
    "                'volume' : parameters[6].text,\n",
    "                'avg_volume' : parameters[7].text,\n",
    "                'market_cap' : parameters[8].text,\n",
    "                'pe_ratio' : parameters[9].text,\n",
    "                '52wk_change' : parameters[10].text\n",
    "            }\n",
    "            data.append(stock)\n",
    "        except:\n",
    "            #due to the page content being dynamically loaded it might throw stale element error which is a drawback of webscraping \n",
    "            continue\n",
    "    \n",
    "    #checking for further data \n",
    "    try:\n",
    "       next_btn = wait.until(\n",
    "           EC.element_to_be_clickable((By.XPATH,'//*[@id=\"nimbus-app\"]/section/section/section/article/section[1]/div/div[3]/div[3]/button[3]'))\n",
    "       )\n",
    "    except:\n",
    "        print('all stock data fetched no more pages to view')\n",
    "        break\n",
    "    else:\n",
    "        next_btn.click()\n",
    "\n"
   ]
  },
  {
   "cell_type": "markdown",
   "id": "0e258086-0b1e-4623-8897-dbc33c58709d",
   "metadata": {},
   "source": [
    "### converting data to temporary dataframe to perform cleaning"
   ]
  },
  {
   "cell_type": "code",
   "execution_count": null,
   "id": "4c7a16a1-6187-4e54-bacc-11b5c7957c1c",
   "metadata": {},
   "outputs": [],
   "source": [
    "df = pd.DataFrame(data)"
   ]
  },
  {
   "cell_type": "markdown",
   "id": "8e42e029-b27d-4b7b-b4aa-89d3f8e3ae07",
   "metadata": {},
   "source": [
    "### performing some data cleaning for manual screening observations\n"
   ]
  },
  {
   "cell_type": "code",
   "execution_count": 148,
   "id": "e126d5f8-81fe-482d-b52f-d059cbb87d69",
   "metadata": {},
   "outputs": [],
   "source": [
    "df.loc[0,'symbol'] = 'NVDA'"
   ]
  },
  {
   "cell_type": "code",
   "execution_count": 166,
   "id": "527fd8e7-572f-468e-9d30-013be4011c0c",
   "metadata": {},
   "outputs": [],
   "source": [
    "df = df.drop_duplicates(subset=['name'],keep='first')"
   ]
  },
  {
   "cell_type": "markdown",
   "id": "1902a060-1e54-4786-bead-65e83946364d",
   "metadata": {},
   "source": [
    "### changing the data type of columns to appropriate type"
   ]
  },
  {
   "cell_type": "code",
   "execution_count": 186,
   "id": "c0379673-61cd-46df-be40-13311dbf7988",
   "metadata": {},
   "outputs": [
    {
     "name": "stderr",
     "output_type": "stream",
     "text": [
      "C:\\Users\\deepa\\AppData\\Local\\Temp\\ipykernel_13600\\2791279959.py:1: SettingWithCopyWarning: \n",
      "A value is trying to be set on a copy of a slice from a DataFrame.\n",
      "Try using .loc[row_indexer,col_indexer] = value instead\n",
      "\n",
      "See the caveats in the documentation: https://pandas.pydata.org/pandas-docs/stable/user_guide/indexing.html#returning-a-view-versus-a-copy\n",
      "  df['current_market_price'] = df['current_market_price'].astype(float)\n"
     ]
    }
   ],
   "source": [
    "df['current_market_price'] = df['current_market_price'].astype(float)"
   ]
  },
  {
   "cell_type": "code",
   "execution_count": 194,
   "id": "236c1639-b586-4a37-aceb-16dac6ee3f29",
   "metadata": {},
   "outputs": [
    {
     "name": "stderr",
     "output_type": "stream",
     "text": [
      "C:\\Users\\deepa\\AppData\\Local\\Temp\\ipykernel_13600\\3371520399.py:1: SettingWithCopyWarning: \n",
      "A value is trying to be set on a copy of a slice from a DataFrame.\n",
      "Try using .loc[row_indexer,col_indexer] = value instead\n",
      "\n",
      "See the caveats in the documentation: https://pandas.pydata.org/pandas-docs/stable/user_guide/indexing.html#returning-a-view-versus-a-copy\n",
      "  df['change'] = df['change'].astype(float)\n"
     ]
    }
   ],
   "source": [
    "df['change'] = df['change'].astype(float)"
   ]
  },
  {
   "cell_type": "code",
   "execution_count": 244,
   "id": "0e755272-3619-45f7-b387-ffa6a7727f42",
   "metadata": {},
   "outputs": [],
   "source": [
    "def conv(x):\n",
    "    sign = x[0]\n",
    "    x = x[1:-1]\n",
    "    return float(x) if sign == '+' else -1*float(x)"
   ]
  },
  {
   "cell_type": "code",
   "execution_count": 208,
   "id": "d8e46583-a0eb-402d-80fd-6b51f446b1a1",
   "metadata": {},
   "outputs": [
    {
     "name": "stderr",
     "output_type": "stream",
     "text": [
      "C:\\Users\\deepa\\AppData\\Local\\Temp\\ipykernel_13600\\4088284793.py:1: SettingWithCopyWarning: \n",
      "A value is trying to be set on a copy of a slice from a DataFrame.\n",
      "Try using .loc[row_indexer,col_indexer] = value instead\n",
      "\n",
      "See the caveats in the documentation: https://pandas.pydata.org/pandas-docs/stable/user_guide/indexing.html#returning-a-view-versus-a-copy\n",
      "  df['percent_change'] = df['percent_change'].apply(lambda x : conv(x))\n"
     ]
    }
   ],
   "source": [
    "df['percent_change'] = df['percent_change'].apply(lambda x : conv(x))"
   ]
  },
  {
   "cell_type": "code",
   "execution_count": 216,
   "id": "12a7ce5a-ca43-451f-ab1a-0f7f9b58bd04",
   "metadata": {},
   "outputs": [],
   "source": [
    "def conv2(x):\n",
    "    illion = x[-1]\n",
    "    val = float(x[:-1])\n",
    "    if illion == 'M':\n",
    "        val*=1000000\n",
    "    elif illion == 'B':\n",
    "        val*=1000000000\n",
    "    elif illion == 'T':\n",
    "        val*=1000000000000\n",
    "    return val\n",
    "    "
   ]
  },
  {
   "cell_type": "code",
   "execution_count": 220,
   "id": "ded37f42-583b-4f2f-b492-786a9c9e6662",
   "metadata": {},
   "outputs": [
    {
     "name": "stderr",
     "output_type": "stream",
     "text": [
      "C:\\Users\\deepa\\AppData\\Local\\Temp\\ipykernel_13600\\894718547.py:1: SettingWithCopyWarning: \n",
      "A value is trying to be set on a copy of a slice from a DataFrame.\n",
      "Try using .loc[row_indexer,col_indexer] = value instead\n",
      "\n",
      "See the caveats in the documentation: https://pandas.pydata.org/pandas-docs/stable/user_guide/indexing.html#returning-a-view-versus-a-copy\n",
      "  df['volume'] = df['volume'].apply(lambda x : conv2(x))\n"
     ]
    }
   ],
   "source": [
    "df['volume'] = df['volume'].apply(lambda x : conv2(x))"
   ]
  },
  {
   "cell_type": "code",
   "execution_count": 228,
   "id": "7c86d003-0c1c-4669-8cb6-eae2bd3269d0",
   "metadata": {},
   "outputs": [
    {
     "name": "stderr",
     "output_type": "stream",
     "text": [
      "C:\\Users\\deepa\\AppData\\Local\\Temp\\ipykernel_13600\\3359425889.py:1: SettingWithCopyWarning: \n",
      "A value is trying to be set on a copy of a slice from a DataFrame.\n",
      "Try using .loc[row_indexer,col_indexer] = value instead\n",
      "\n",
      "See the caveats in the documentation: https://pandas.pydata.org/pandas-docs/stable/user_guide/indexing.html#returning-a-view-versus-a-copy\n",
      "  df['avg_volume'] = df['avg_volume'].apply(lambda x : conv2(x))\n"
     ]
    }
   ],
   "source": [
    "df['avg_volume'] = df['avg_volume'].apply(lambda x : conv2(x))"
   ]
  },
  {
   "cell_type": "code",
   "execution_count": 238,
   "id": "6304d069-c1bb-48da-95ab-550d00511d7c",
   "metadata": {},
   "outputs": [
    {
     "name": "stderr",
     "output_type": "stream",
     "text": [
      "C:\\Users\\deepa\\AppData\\Local\\Temp\\ipykernel_13600\\2545169204.py:1: SettingWithCopyWarning: \n",
      "A value is trying to be set on a copy of a slice from a DataFrame.\n",
      "Try using .loc[row_indexer,col_indexer] = value instead\n",
      "\n",
      "See the caveats in the documentation: https://pandas.pydata.org/pandas-docs/stable/user_guide/indexing.html#returning-a-view-versus-a-copy\n",
      "  df['market_cap'] = df['market_cap'].apply(lambda x : conv2(x))\n"
     ]
    }
   ],
   "source": [
    "df['market_cap'] = df['market_cap'].apply(lambda x : conv2(x))"
   ]
  },
  {
   "cell_type": "code",
   "execution_count": 250,
   "id": "7db0046f-3a18-45f6-99bd-440292066635",
   "metadata": {},
   "outputs": [
    {
     "name": "stderr",
     "output_type": "stream",
     "text": [
      "C:\\Users\\deepa\\AppData\\Local\\Temp\\ipykernel_13600\\1081073362.py:1: SettingWithCopyWarning: \n",
      "A value is trying to be set on a copy of a slice from a DataFrame.\n",
      "Try using .loc[row_indexer,col_indexer] = value instead\n",
      "\n",
      "See the caveats in the documentation: https://pandas.pydata.org/pandas-docs/stable/user_guide/indexing.html#returning-a-view-versus-a-copy\n",
      "  df['52wk_change'] = df['52wk_change'].apply(lambda x : conv(x))\n"
     ]
    }
   ],
   "source": [
    "df['52wk_change'] = df['52wk_change'].apply(lambda x : conv(x))"
   ]
  },
  {
   "cell_type": "code",
   "execution_count": 266,
   "id": "aefa0a1a-5929-4b9a-abe0-84b85f344f68",
   "metadata": {},
   "outputs": [],
   "source": [
    "def pe_conv(pe):\n",
    "    if pe == '-':\n",
    "        return -1 # no profit of company\n",
    "    if ',' in pe :\n",
    "        pe = pe.replace(',','')\n",
    "    return float(pe)"
   ]
  },
  {
   "cell_type": "code",
   "execution_count": 270,
   "id": "9dbcb15c-0364-4023-96a9-822679428d73",
   "metadata": {},
   "outputs": [
    {
     "name": "stderr",
     "output_type": "stream",
     "text": [
      "C:\\Users\\deepa\\AppData\\Local\\Temp\\ipykernel_13600\\650533919.py:1: SettingWithCopyWarning: \n",
      "A value is trying to be set on a copy of a slice from a DataFrame.\n",
      "Try using .loc[row_indexer,col_indexer] = value instead\n",
      "\n",
      "See the caveats in the documentation: https://pandas.pydata.org/pandas-docs/stable/user_guide/indexing.html#returning-a-view-versus-a-copy\n",
      "  df['pe_ratio'] = df['pe_ratio'].apply(lambda x: pe_conv(x))\n"
     ]
    }
   ],
   "source": [
    "df['pe_ratio'] = df['pe_ratio'].apply(lambda x: pe_conv(x))"
   ]
  },
  {
   "cell_type": "code",
   "execution_count": 272,
   "id": "e243a163-e789-4044-94b7-870601eccf66",
   "metadata": {},
   "outputs": [
    {
     "name": "stdout",
     "output_type": "stream",
     "text": [
      "<class 'pandas.core.frame.DataFrame'>\n",
      "Index: 356 entries, 0 to 357\n",
      "Data columns (total 10 columns):\n",
      " #   Column                Non-Null Count  Dtype  \n",
      "---  ------                --------------  -----  \n",
      " 0   symbol                356 non-null    object \n",
      " 1   name                  356 non-null    object \n",
      " 2   current_market_price  356 non-null    float64\n",
      " 3   change                356 non-null    float64\n",
      " 4   percent_change        356 non-null    float64\n",
      " 5   volume                356 non-null    float64\n",
      " 6   avg_volume            356 non-null    float64\n",
      " 7   market_cap            356 non-null    float64\n",
      " 8   pe_ratio              356 non-null    float64\n",
      " 9   52wk_change           356 non-null    float64\n",
      "dtypes: float64(8), object(2)\n",
      "memory usage: 30.6+ KB\n"
     ]
    }
   ],
   "source": [
    "df.info()"
   ]
  },
  {
   "cell_type": "code",
   "execution_count": 276,
   "id": "2d82d3a7-407b-4a1c-b935-b8faba47b445",
   "metadata": {},
   "outputs": [
    {
     "data": {
      "text/html": [
       "<div>\n",
       "<style scoped>\n",
       "    .dataframe tbody tr th:only-of-type {\n",
       "        vertical-align: middle;\n",
       "    }\n",
       "\n",
       "    .dataframe tbody tr th {\n",
       "        vertical-align: top;\n",
       "    }\n",
       "\n",
       "    .dataframe thead th {\n",
       "        text-align: right;\n",
       "    }\n",
       "</style>\n",
       "<table border=\"1\" class=\"dataframe\">\n",
       "  <thead>\n",
       "    <tr style=\"text-align: right;\">\n",
       "      <th></th>\n",
       "      <th>symbol</th>\n",
       "      <th>name</th>\n",
       "      <th>current_market_price</th>\n",
       "      <th>change</th>\n",
       "      <th>percent_change</th>\n",
       "      <th>volume</th>\n",
       "      <th>avg_volume</th>\n",
       "      <th>market_cap</th>\n",
       "      <th>pe_ratio</th>\n",
       "      <th>52wk_change</th>\n",
       "    </tr>\n",
       "  </thead>\n",
       "  <tbody>\n",
       "    <tr>\n",
       "      <th>0</th>\n",
       "      <td>NVDA</td>\n",
       "      <td>NVIDIA Corporation</td>\n",
       "      <td>112.69</td>\n",
       "      <td>2.12</td>\n",
       "      <td>1.92</td>\n",
       "      <td>341755000.0</td>\n",
       "      <td>261527000.0</td>\n",
       "      <td>2.750000e+12</td>\n",
       "      <td>38.33</td>\n",
       "      <td>-1.38</td>\n",
       "    </tr>\n",
       "    <tr>\n",
       "      <th>1</th>\n",
       "      <td>F</td>\n",
       "      <td>Ford Motor Company</td>\n",
       "      <td>9.90</td>\n",
       "      <td>0.29</td>\n",
       "      <td>3.02</td>\n",
       "      <td>138194000.0</td>\n",
       "      <td>78894000.0</td>\n",
       "      <td>3.923800e+10</td>\n",
       "      <td>6.78</td>\n",
       "      <td>-18.25</td>\n",
       "    </tr>\n",
       "    <tr>\n",
       "      <th>2</th>\n",
       "      <td>PLTR</td>\n",
       "      <td>Palantir Technologies Inc.</td>\n",
       "      <td>84.90</td>\n",
       "      <td>4.44</td>\n",
       "      <td>5.52</td>\n",
       "      <td>105377000.0</td>\n",
       "      <td>97032000.0</td>\n",
       "      <td>1.991280e+11</td>\n",
       "      <td>446.86</td>\n",
       "      <td>-34.95</td>\n",
       "    </tr>\n",
       "    <tr>\n",
       "      <th>3</th>\n",
       "      <td>WBA</td>\n",
       "      <td>Walgreens Boots Alliance, Inc.</td>\n",
       "      <td>11.39</td>\n",
       "      <td>0.79</td>\n",
       "      <td>7.45</td>\n",
       "      <td>104361000.0</td>\n",
       "      <td>28666000.0</td>\n",
       "      <td>9.843000e+09</td>\n",
       "      <td>-1.00</td>\n",
       "      <td>-47.12</td>\n",
       "    </tr>\n",
       "    <tr>\n",
       "      <th>4</th>\n",
       "      <td>TSLA</td>\n",
       "      <td>Tesla, Inc.</td>\n",
       "      <td>262.67</td>\n",
       "      <td>-0.78</td>\n",
       "      <td>-0.30</td>\n",
       "      <td>102370000.0</td>\n",
       "      <td>86215000.0</td>\n",
       "      <td>8.448830e+11</td>\n",
       "      <td>128.13</td>\n",
       "      <td>-7.76</td>\n",
       "    </tr>\n",
       "  </tbody>\n",
       "</table>\n",
       "</div>"
      ],
      "text/plain": [
       "  symbol                            name  current_market_price  change  \\\n",
       "0   NVDA              NVIDIA Corporation                112.69    2.12   \n",
       "1      F              Ford Motor Company                  9.90    0.29   \n",
       "2   PLTR      Palantir Technologies Inc.                 84.90    4.44   \n",
       "3    WBA  Walgreens Boots Alliance, Inc.                 11.39    0.79   \n",
       "4   TSLA                     Tesla, Inc.                262.67   -0.78   \n",
       "\n",
       "   percent_change       volume   avg_volume    market_cap  pe_ratio  \\\n",
       "0            1.92  341755000.0  261527000.0  2.750000e+12     38.33   \n",
       "1            3.02  138194000.0   78894000.0  3.923800e+10      6.78   \n",
       "2            5.52  105377000.0   97032000.0  1.991280e+11    446.86   \n",
       "3            7.45  104361000.0   28666000.0  9.843000e+09     -1.00   \n",
       "4           -0.30  102370000.0   86215000.0  8.448830e+11    128.13   \n",
       "\n",
       "   52wk_change  \n",
       "0        -1.38  \n",
       "1       -18.25  \n",
       "2       -34.95  \n",
       "3       -47.12  \n",
       "4        -7.76  "
      ]
     },
     "execution_count": 276,
     "metadata": {},
     "output_type": "execute_result"
    }
   ],
   "source": [
    "df.head()"
   ]
  },
  {
   "cell_type": "markdown",
   "id": "54e183c7-7c25-4a67-8e57-8b388db34407",
   "metadata": {},
   "source": [
    "### Exporting the cleaned data frame"
   ]
  },
  {
   "cell_type": "code",
   "execution_count": 281,
   "id": "b24d1625-f619-44f4-9c1a-bacc563a04b5",
   "metadata": {},
   "outputs": [],
   "source": [
    "df.to_csv('scraped_data.csv')"
   ]
  },
  {
   "cell_type": "code",
   "execution_count": null,
   "id": "72a6899c-133d-4b28-8294-453881ae2c2d",
   "metadata": {},
   "outputs": [],
   "source": []
  }
 ],
 "metadata": {
  "kernelspec": {
   "display_name": "web_scraping",
   "language": "python",
   "name": "web_scraping"
  },
  "language_info": {
   "codemirror_mode": {
    "name": "ipython",
    "version": 3
   },
   "file_extension": ".py",
   "mimetype": "text/x-python",
   "name": "python",
   "nbconvert_exporter": "python",
   "pygments_lexer": "ipython3",
   "version": "3.12.7"
  }
 },
 "nbformat": 4,
 "nbformat_minor": 5
}
